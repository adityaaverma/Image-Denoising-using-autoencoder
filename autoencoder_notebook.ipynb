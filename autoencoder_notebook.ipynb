{
  "metadata": {
    "kernelspec": {
      "language": "python",
      "display_name": "Python 3",
      "name": "python3"
    },
    "language_info": {
      "name": "python",
      "version": "3.7.12",
      "mimetype": "text/x-python",
      "codemirror_mode": {
        "name": "ipython",
        "version": 3
      },
      "pygments_lexer": "ipython3",
      "nbconvert_exporter": "python",
      "file_extension": ".py"
    },
    "kaggle": {
      "accelerator": "none",
      "dataSources": [],
      "dockerImageVersionId": 30207,
      "isInternetEnabled": false,
      "language": "python",
      "sourceType": "notebook",
      "isGpuEnabled": false
    },
    "colab": {
      "provenance": []
    }
  },
  "nbformat_minor": 0,
  "nbformat": 4,
  "cells": [
    {
      "cell_type": "markdown",
      "source": [
        "# Image Denoising with Autoencoders\n",
        "\n",
        "## Task 1: Introduction and Importing Libraries\n",
        "___"
      ],
      "metadata": {
        "id": "Pu2We61PpltJ"
      }
    },
    {
      "cell_type": "code",
      "source": [
        "import numpy as np\n",
        "\n",
        "from tensorflow.keras.datasets import mnist\n",
        "from matplotlib import pyplot as plt\n",
        "from tensorflow.keras.models import Sequential, Model\n",
        "from tensorflow.keras.layers import Dense, Input\n",
        "from tensorflow.keras.callbacks import EarlyStopping, LambdaCallback\n",
        "from tensorflow.keras.utils import to_categorical\n",
        "\n",
        "%matplotlib inline"
      ],
      "metadata": {
        "execution": {
          "iopub.status.busy": "2022-07-20T17:54:19.406035Z",
          "iopub.execute_input": "2022-07-20T17:54:19.407199Z",
          "iopub.status.idle": "2022-07-20T17:54:22.004558Z",
          "shell.execute_reply.started": "2022-07-20T17:54:19.407129Z",
          "shell.execute_reply": "2022-07-20T17:54:22.003081Z"
        },
        "trusted": true,
        "id": "nwhq-xSqpltZ"
      },
      "execution_count": 1,
      "outputs": []
    },
    {
      "cell_type": "markdown",
      "source": [
        "For this project, we're using the popular __MNIST__ data set.\n",
        "This dataset has 60,000 examples of images of handwritten\n",
        "digits in the training set and 10,000 examples in the test\n",
        "set. The examples are black and white images of 28 by 28 as\n",
        "in 28 rows and 28 columns for each example.\n",
        "The labels are simply digits corresponding to the 10 classes\n",
        "from 0 to 9."
      ],
      "metadata": {
        "id": "IUwwqrgPpltb"
      }
    },
    {
      "cell_type": "markdown",
      "source": [
        "## Task 2: Data Preprocessing\n",
        "___\n"
      ],
      "metadata": {
        "id": "dRkZxZsqpltb"
      }
    },
    {
      "cell_type": "markdown",
      "source": [
        "Now we will create two neural network models in this project.\n",
        "One will be trained to perform classification\n",
        "of these handwritten digits from the MNIST dataset\n",
        "and another model will be used to de-noise input data.\n",
        "And this is our auto encoder.\n",
        "\n",
        "\n",
        "Eventually, we will connect the two models together and have\n",
        "them work in conjunction as a single composite model.\n",
        "In order to input the examples to our models, we will do\n",
        "a little bit of pre-processing on them.\n",
        "\n",
        "Basically, we will normalize the values to a range of 0 to 1.\n",
        "Then, we will reshape the training and tested examples\n",
        "to 784 dimensional vectors."
      ],
      "metadata": {
        "id": "53KJNHQTpltb"
      }
    },
    {
      "cell_type": "code",
      "source": [
        "# let's load the data and populate these training and test sets.\n",
        "(X_train, y_train), (X_test, y_test) = mnist.load_data()\n",
        "#These will be our numpy arrays.\n",
        "\n",
        "# Let's normalize the values\n",
        "\n",
        "# Currently the values are from 0 to 255. They're all integer values for the intensity of our pixels.\n",
        "# We can change those values and normalize the data by doing the code below.\n",
        "# We will convert the type of our X_train from integer to a floating point number.\n",
        "# And then we will divide the result by 255.\n",
        "# Now, 255 is the maximum pixel value that we have.\n",
        "# So this will convert our values and X_train for all\n",
        "# the pixels to a range of 0 to 1.\n",
        "X_train = X_train.astype('float') / 255.\n",
        "\n",
        "# Now we will do the same thing for our test set.\n",
        "X_test = X_test.astype('float') / 255.\n",
        "\n",
        "# Re-shape the examples\n",
        "# We will also reshape our examples from the shape of 28 by 28 to vectors of 784 dimensions.\n",
        "# And this will make it easy for us to input our examples into the classifier neural network that we'll create.\n",
        "# We are using the numpy's reshape; and we have 60,000 examples; and the total number of pixels we have are 784.\n",
        "# This is 28(rows) multiplied by 28(columns).\n",
        "X_train = np.reshape(X_train, (60000, 784))\n",
        "\n",
        "# Let's do the same thing for our test set examples.\n",
        "X_test = np.reshape(X_test, (10000, 784))"
      ],
      "metadata": {
        "execution": {
          "iopub.status.busy": "2022-07-20T17:54:22.011066Z",
          "iopub.execute_input": "2022-07-20T17:54:22.011405Z",
          "iopub.status.idle": "2022-07-20T17:54:22.562164Z",
          "shell.execute_reply.started": "2022-07-20T17:54:22.011375Z",
          "shell.execute_reply": "2022-07-20T17:54:22.560969Z"
        },
        "trusted": true,
        "colab": {
          "base_uri": "https://localhost:8080/"
        },
        "id": "ipUkP2eXpltc",
        "outputId": "8a965c7c-7ac7-4280-9273-d389f5c3a2f7"
      },
      "execution_count": 2,
      "outputs": [
        {
          "output_type": "stream",
          "name": "stdout",
          "text": [
            "Downloading data from https://storage.googleapis.com/tensorflow/tf-keras-datasets/mnist.npz\n",
            "11490434/11490434 [==============================] - 0s 0us/step\n"
          ]
        }
      ]
    },
    {
      "cell_type": "markdown",
      "source": [
        "## Task 3: Adding Noise\n",
        "___\n"
      ],
      "metadata": {
        "id": "ku-yKqyipltc"
      }
    },
    {
      "cell_type": "code",
      "source": [
        "# The code below will give us a uniform value between zero and one.\n",
        "# We can give it a shape of 60,000 by 784 which is the shape of our X_train.\n",
        "# Each value here in X_train will have something randomly added to them,\n",
        "# and we can scale this down a little bit by multiplying it by 0.9.\n",
        "X_train_noisy = X_train + np.random.rand(60000, 784) * 0.9\n",
        "\n",
        "# We can do the same thing for our X_test data\n",
        "X_test_noisy = X_test + np.random.rand(10000, 784) * 0.9\n",
        "\n",
        "# ensure that our values remain within the zero and one range that we normally see\n",
        "# in the previous task.\n",
        "X_train_noisy = np.clip(X_train_noisy, 0., 1.)\n",
        "\n",
        "# do the same thing for X_test_noisy\n",
        "X_test_noisy = np.clip(X_test_noisy, 0., 1.)\n",
        "\n",
        "# Note: \"0.\" and \"1.\" simply means that these are going to be floating point values."
      ],
      "metadata": {
        "execution": {
          "iopub.status.busy": "2022-07-20T17:54:22.563624Z",
          "iopub.execute_input": "2022-07-20T17:54:22.563958Z",
          "iopub.status.idle": "2022-07-20T17:54:23.533275Z",
          "shell.execute_reply.started": "2022-07-20T17:54:22.563928Z",
          "shell.execute_reply": "2022-07-20T17:54:23.532314Z"
        },
        "trusted": true,
        "id": "6vsu408dpltd"
      },
      "execution_count": 3,
      "outputs": []
    },
    {
      "cell_type": "code",
      "source": [
        "# Create a function that will plot out the first 10 images of any dataset.\n",
        "# Our function will take a few arguments. It will take \"x\", \"p\" and \"labels\".\n",
        "# Labels will be set to false by default.\n",
        "\n",
        "# normally when we're looking at the data set, we don't want to pass any \"p\" argument in our function below.\n",
        "# The \"p\" here is going to be for prediction, but we're defining it here right now because later we would\n",
        "# want to take a look at not just the images, but also their corresponding predictions from our classifier\n",
        "# and the composite model that we'll create later.\n",
        "\n",
        "def plot(x, p, labels=False):\n",
        "    plt.figure(figsize=(20,2))\n",
        "    for i in range(10): # refers to the first 10 images that we are plotting\n",
        "        plt.subplot(1, 10, i+1) # 1 row and 10 columns; the index for the subplot\n",
        "                                # starts from one rather than from zero.\n",
        "                                # So we're adding one here to the index.\n",
        "        plt.imshow(x[i].reshape(28, 28), # this will show the image except we will have to reshape to 28 by 28 because we flattened it in the previous task.\n",
        "                   cmap = 'binary') # \"binary\" so that we see the black and white images as they are.\n",
        "        # remove the xticks and yticks so set them to blank list\n",
        "        plt.xticks([])\n",
        "        plt.yticks([])\n",
        "        if labels: # if labels is true,\n",
        "            plt.xlabel(np.argmax(p[i])) # then we also want to label our X axis.\n",
        "            # This is where the \"p\" comes in for prediction.\n",
        "            # If we have predictions on this data set, we will pass those\n",
        "            # predictions as well. And those predictions will be displayed as\n",
        "            # the X labels of the images.\n",
        "        # Come out of the for loop to display the entire plot.\n",
        "    plt.show()\n",
        "    return\n",
        "# Great! This is our plot function.\n",
        "\n",
        "# Now let's use it to display the first few images from the X_train data set.\n",
        "plot(X_train, None) # set \"None\" for the prediction"
      ],
      "metadata": {
        "execution": {
          "iopub.status.busy": "2022-07-20T17:54:23.535753Z",
          "iopub.execute_input": "2022-07-20T17:54:23.536404Z",
          "iopub.status.idle": "2022-07-20T17:54:24.108198Z",
          "shell.execute_reply.started": "2022-07-20T17:54:23.53637Z",
          "shell.execute_reply": "2022-07-20T17:54:24.106948Z"
        },
        "trusted": true,
        "colab": {
          "base_uri": "https://localhost:8080/",
          "height": 168
        },
        "id": "-CLsUWkQpltd",
        "outputId": "7af9c21a-ea39-4a03-a1ff-f083bb431f0a"
      },
      "execution_count": 4,
      "outputs": [
        {
          "output_type": "display_data",
          "data": {
            "text/plain": [
              "<Figure size 2000x200 with 10 Axes>"
            ],
            "image/png": "[encoded data removed]"
          },
          "metadata": {}
        }
      ]
    },
    {
      "cell_type": "code",
      "source": [
        "plot(X_train_noisy, None)"
      ],
      "metadata": {
        "execution": {
          "iopub.status.busy": "2022-07-20T17:54:24.113733Z",
          "iopub.execute_input": "2022-07-20T17:54:24.115007Z",
          "iopub.status.idle": "2022-07-20T17:54:24.475542Z",
          "shell.execute_reply.started": "2022-07-20T17:54:24.114959Z",
          "shell.execute_reply": "2022-07-20T17:54:24.474363Z"
        },
        "trusted": true,
        "colab": {
          "base_uri": "https://localhost:8080/",
          "height": 168
        },
        "id": "gzE3SFLfplte",
        "outputId": "d0f840de-d31c-4d7e-e06e-1ce53f242bc4"
      },
      "execution_count": 5,
      "outputs": [
        {
          "output_type": "display_data",
          "data": {
            "text/plain": [
              "<Figure size 2000x200 with 10 Axes>"
            ],
            "image/png": "[encoded data removed]"
          },
          "metadata": {}
        }
      ]
    },
    {
      "cell_type": "markdown",
      "source": [
        "## Task 4: Building and Training a Classifier\n",
        "___\n"
      ],
      "metadata": {
        "id": "5dCl1Q4Eplte"
      }
    },
    {
      "cell_type": "markdown",
      "source": [
        "In this task, we will create a classifier and train it to classify handwritten digit\n",
        "images from our MNIST dataset. We will use a very straightforward neural network with just\n",
        "two hidden layers."
      ],
      "metadata": {
        "id": "QPuZHDTfplte"
      }
    },
    {
      "cell_type": "code",
      "source": [
        "classifier = Sequential([\n",
        "    Dense(256, activation='relu', input_shape=(784,)),\n",
        "    Dense(256, activation='relu'),\n",
        "    Dense(10, activation='softmax') # softmax to get probability score from this model\n",
        "])\n",
        "\n",
        "# compile our model\n",
        "classifier.compile(\n",
        "    optimizer = 'adam', #short for adaptive moment estimate; works kinda like the RMS prop algorithm but with momentum added to that.\n",
        "    loss = 'sparse_categorical_crossentropy', # we would have used the categorical crossentropy if our labels\n",
        "                                                # were represented in one hot encodings. But they're not. Right now, our labels are not encoded at all.\n",
        "                                                # They basically just have numeric values for the different classes. So for that reason,\n",
        "                                                # we are using sparse, categorical cross entropy\n",
        "    metrics=['accuracy']\n",
        ")\n",
        "\n",
        "# Now we can train our classifier simply by fitting the Model to X_train and y_train.\n",
        "classifier.fit(X_train, y_train,\n",
        "               batch_size=512, # We will also set a batch_size of 512. This is normal, but this is slightly on the higher side.\n",
        "                                # And we're doing this only to speed up the training.\n",
        "               epochs=20) # And finally we will set the epochs. We will just train the model for 20 epochs."
      ],
      "metadata": {
        "execution": {
          "iopub.status.busy": "2022-07-20T17:54:24.477593Z",
          "iopub.execute_input": "2022-07-20T17:54:24.478394Z",
          "iopub.status.idle": "2022-07-20T17:54:28.765411Z",
          "shell.execute_reply.started": "2022-07-20T17:54:24.478351Z",
          "shell.execute_reply": "2022-07-20T17:54:28.764414Z"
        },
        "trusted": true,
        "colab": {
          "base_uri": "https://localhost:8080/"
        },
        "id": "Pufh7aF9plte",
        "outputId": "3f8d0111-53c1-4c63-e761-a77da36d36fc"
      },
      "execution_count": 6,
      "outputs": [
        {
          "output_type": "stream",
          "name": "stdout",
          "text": [
            "Epoch 1/20\n",
            "118/118 [==============================] - 2s 12ms/step - loss: 0.4143 - accuracy: 0.8884\n",
            "Epoch 2/20\n",
            "118/118 [==============================] - 1s 11ms/step - loss: 0.1514 - accuracy: 0.9558\n",
            "Epoch 3/20\n",
            "118/118 [==============================] - 1s 11ms/step - loss: 0.1026 - accuracy: 0.9699\n",
            "Epoch 4/20\n",
            "118/118 [==============================] - 1s 12ms/step - loss: 0.0756 - accuracy: 0.9777\n",
            "Epoch 5/20\n",
            "118/118 [==============================] - 2s 14ms/step - loss: 0.0577 - accuracy: 0.9830\n",
            "Epoch 6/20\n",
            "118/118 [==============================] - 1s 12ms/step - loss: 0.0453 - accuracy: 0.9865\n",
            "Epoch 7/20\n",
            "118/118 [==============================] - 1s 11ms/step - loss: 0.0370 - accuracy: 0.9890\n",
            "Epoch 8/20\n",
            "118/118 [==============================] - 1s 11ms/step - loss: 0.0314 - accuracy: 0.9910\n",
            "Epoch 9/20\n",
            "118/118 [==============================] - 1s 11ms/step - loss: 0.0251 - accuracy: 0.9926\n",
            "Epoch 10/20\n",
            "118/118 [==============================] - 1s 11ms/step - loss: 0.0189 - accuracy: 0.9948\n",
            "Epoch 11/20\n",
            "118/118 [==============================] - 1s 11ms/step - loss: 0.0169 - accuracy: 0.9952\n",
            "Epoch 12/20\n",
            "118/118 [==============================] - 1s 11ms/step - loss: 0.0110 - accuracy: 0.9977\n",
            "Epoch 13/20\n",
            "118/118 [==============================] - 1s 12ms/step - loss: 0.0091 - accuracy: 0.9979\n",
            "Epoch 14/20\n",
            "118/118 [==============================] - 2s 15ms/step - loss: 0.0079 - accuracy: 0.9982\n",
            "Epoch 15/20\n",
            "118/118 [==============================] - 2s 15ms/step - loss: 0.0055 - accuracy: 0.9990\n",
            "Epoch 16/20\n",
            "118/118 [==============================] - 1s 11ms/step - loss: 0.0054 - accuracy: 0.9990\n",
            "Epoch 17/20\n",
            "118/118 [==============================] - 1s 11ms/step - loss: 0.0033 - accuracy: 0.9995\n",
            "Epoch 18/20\n",
            "118/118 [==============================] - 1s 11ms/step - loss: 0.0021 - accuracy: 0.9998\n",
            "Epoch 19/20\n",
            "118/118 [==============================] - 1s 11ms/step - loss: 0.0020 - accuracy: 0.9998\n",
            "Epoch 20/20\n",
            "118/118 [==============================] - 1s 11ms/step - loss: 0.0020 - accuracy: 0.9998\n"
          ]
        },
        {
          "output_type": "execute_result",
          "data": {
            "text/plain": [
              "<keras.src.callbacks.History at 0x7a9906e4b850>"
            ]
          },
          "metadata": {},
          "execution_count": 6
        }
      ]
    },
    {
      "cell_type": "markdown",
      "source": [
        "With just 20 epochs model accuracy is over 99.98% which is about 100% accurate"
      ],
      "metadata": {
        "id": "hqav-nD1pltf"
      }
    },
    {
      "cell_type": "code",
      "source": [
        "# we'll use our classifier with evaluate function\n",
        "loss, acc = classifier.evaluate(X_test, y_test)\n",
        "\n",
        "# print out the the returned accuracy rate.\n",
        "print(acc)"
      ],
      "metadata": {
        "execution": {
          "iopub.status.busy": "2022-07-20T17:54:28.766709Z",
          "iopub.execute_input": "2022-07-20T17:54:28.766987Z",
          "iopub.status.idle": "2022-07-20T17:54:29.535884Z",
          "shell.execute_reply.started": "2022-07-20T17:54:28.766962Z",
          "shell.execute_reply": "2022-07-20T17:54:29.534467Z"
        },
        "trusted": true,
        "colab": {
          "base_uri": "https://localhost:8080/"
        },
        "id": "dp0JZg1tpltf",
        "outputId": "f8cd00bb-a8b8-49fc-da35-2e1565dbef76"
      },
      "execution_count": 8,
      "outputs": [
        {
          "output_type": "stream",
          "name": "stdout",
          "text": [
            "313/313 [==============================] - 0s 2ms/step - loss: 0.0809 - accuracy: 0.9807\n",
            "0.9807000160217285\n"
          ]
        }
      ]
    },
    {
      "cell_type": "markdown",
      "source": [
        "**We** get 98% accuracy, which is pretty good.\n",
        "And this is similar to what we got on the training data as\n",
        "well.\n",
        "\n",
        "\n",
        "But what we really wanted to see was the accuracy that we\n",
        "would get on this classifier with the noisy test data."
      ],
      "metadata": {
        "id": "9f6SZzuSpltf"
      }
    },
    {
      "cell_type": "code",
      "source": [
        "# let's evaluate again but this time for our noisy data\n",
        "loss, acc = classifier.evaluate(X_test_noisy, y_test)\n",
        "print(acc)"
      ],
      "metadata": {
        "execution": {
          "iopub.status.busy": "2022-07-20T17:54:29.537413Z",
          "iopub.execute_input": "2022-07-20T17:54:29.539294Z",
          "iopub.status.idle": "2022-07-20T17:54:30.09883Z",
          "shell.execute_reply.started": "2022-07-20T17:54:29.53924Z",
          "shell.execute_reply": "2022-07-20T17:54:30.097929Z"
        },
        "trusted": true,
        "colab": {
          "base_uri": "https://localhost:8080/"
        },
        "id": "P-ozmtmJpltf",
        "outputId": "7b7f88d2-0ee0-4437-d9a2-da8c899adfb5"
      },
      "execution_count": 9,
      "outputs": [
        {
          "output_type": "stream",
          "name": "stdout",
          "text": [
            "313/313 [==============================] - 0s 1ms/step - loss: 13.6262 - accuracy: 0.2673\n",
            "0.267300009727478\n"
          ]
        }
      ]
    },
    {
      "cell_type": "markdown",
      "source": [
        "We get something like 28%. The classifier doesn't work at all on noisy data.\n",
        "This is pretty much random guess from the classifier.\n",
        "\n",
        "So what we want to do now is to create an autoencoder to de-noise our noisy dataset. Then try this\n",
        "classifiers evaluation again and see what kind of improvement our image denies."
      ],
      "metadata": {
        "id": "lHs9RHI-pltf"
      }
    },
    {
      "cell_type": "markdown",
      "source": [
        "In order to denoise our data, we want to create a model, the auto encoder, which takes\n",
        "a noisy example as input and the original corresponding\n",
        "example as the label.\n",
        "\n",
        "Now, if one or more hidden layers in this neural network has\n",
        "a lot less nodes compared to the input and output, then\n",
        "the training process will force the network to learn\n",
        "a function similar to principal component analysis,\n",
        "essentially reducing dimensionality.\n",
        "\n",
        "And it will essentially force the model to learn the more important characteristics from the data set and focus only on that."
      ],
      "metadata": {
        "id": "foOVht7hpltf"
      }
    },
    {
      "cell_type": "markdown",
      "source": [
        "## Task 5: Building the Autoencoder\n",
        "___\n"
      ],
      "metadata": {
        "id": "Gglya-jppltf"
      }
    },
    {
      "cell_type": "markdown",
      "source": [
        "Let's build our encoder and decoder."
      ],
      "metadata": {
        "id": "XE3e_V9Mpltg"
      }
    },
    {
      "cell_type": "code",
      "source": [
        "# One more thing to note here is that the output layer will have a sigmoid activation.\n",
        "# We are going to use keras's functional api to create this autoencoder.\n",
        "# Let's create a variable input_image and define with the input layer from Keras, and this\n",
        "# is of shape 784 dimensional vector.\n",
        "input_image = Input(shape=(784,))\n",
        "\n",
        "# Our encoded result is essentially going through a dense layer with reduced dimensionality.\n",
        "# Create single dense layer passing in the input_image\n",
        "encoded = Dense(64, activation='relu')(input_image)\n",
        "\n",
        "# create one also for decoding\n",
        "# Create single dense layer passing in the encoded\n",
        "decoded = Dense(784, activation='sigmoid')(encoded)"
      ],
      "metadata": {
        "execution": {
          "iopub.status.busy": "2022-07-20T17:54:30.100121Z",
          "iopub.execute_input": "2022-07-20T17:54:30.100422Z",
          "iopub.status.idle": "2022-07-20T17:54:30.124207Z",
          "shell.execute_reply.started": "2022-07-20T17:54:30.100395Z",
          "shell.execute_reply": "2022-07-20T17:54:30.123318Z"
        },
        "trusted": true,
        "id": "DHv71J0dpltg"
      },
      "execution_count": 10,
      "outputs": []
    },
    {
      "cell_type": "markdown",
      "source": [
        "So we take something that 784 features. We reduce the dimensionality and we force it\n",
        "to a 64 node fully connected layer.\n",
        "And then we expand it again back to 784 values.\n",
        "\n",
        "So with this way, hopefully, our autoencoder, when we train it,\n",
        "learns to focus only on the important stuff and then is\n",
        "able to because of that is able to de noise and ignore\n",
        "the data which is not important.\n",
        "\n",
        "This is where the sigmoid activation will also come into the picture.\n",
        "The higher linear values of the last layer will become closer\n",
        "to the maximum normalized pixel value of one. And the low linear values will converge towards the minimum normalized pixel values of zero.\n",
        "So this stress of activation makes sense, given the examples,\n",
        "and then put our black and white images. There is still some scope for having a variety of pixel\n",
        "values with some linearity in it, because the sigmoid does have a linear part to it as well.\n",
        "But most values will converge to either zero in one, and that works well for us.\n",
        "\n",
        "However, this does not give us the ah auto encoder model just yet.\n",
        "We will need to use the model class from keras to create that."
      ],
      "metadata": {
        "id": "I2fSrptepltg"
      }
    },
    {
      "cell_type": "code",
      "source": [
        "# Build the Autoencoder.\n",
        "# our input is going to be input image and output is simply going to be the decoded output.\n",
        "autoencoder = Model(input_image, decoded)\n",
        "\n",
        "# We also need to compile it.\n",
        "# We'll also set the loss because we are using softmax in the final layer.\n",
        "# Use the optimizer as adam.\n",
        "autoencoder.compile(loss='binary_crossentropy', optimizer='adam')"
      ],
      "metadata": {
        "execution": {
          "iopub.status.busy": "2022-07-20T17:54:30.125711Z",
          "iopub.execute_input": "2022-07-20T17:54:30.126391Z",
          "iopub.status.idle": "2022-07-20T17:54:30.138667Z",
          "shell.execute_reply.started": "2022-07-20T17:54:30.126349Z",
          "shell.execute_reply": "2022-07-20T17:54:30.137602Z"
        },
        "trusted": true,
        "id": "Ujql_2wLpltg"
      },
      "execution_count": 12,
      "outputs": []
    },
    {
      "cell_type": "markdown",
      "source": [
        "Now that we have the autoencoder, we'll go to the next task and train this autoencoder."
      ],
      "metadata": {
        "id": "YvEQg6J0pltg"
      }
    },
    {
      "cell_type": "markdown",
      "source": [
        "## Task 6: Training the Autoencoder\n",
        "___\n"
      ],
      "metadata": {
        "id": "lzph2tM5pltg"
      }
    },
    {
      "cell_type": "markdown",
      "source": [
        "We will use the noisy training set examples as our examples and the original training set examples, the ones without any noise, will be used as our labels for the autoencoder to learn de-noising.\n",
        "\n",
        "The idea being that by doing this training, our autoencoder will learn to recognize the important\n",
        "features and learn to ignore the rest of the not so important features."
      ],
      "metadata": {
        "id": "5V3EwwcLplth"
      }
    },
    {
      "cell_type": "code",
      "source": [
        "autoencoder.fit(\n",
        "    X_train_noisy, X_train,\n",
        "    epochs=100, # We will use a slightly higher number of epochs this time.\n",
        "                # We probably will not have to train 400 epochs because\n",
        "                # we're going to use early stopping callback.\n",
        "    batch_size=512, # We will set a batch size to 512.\n",
        "                    # This is slightly higher than usual, but this will help speed\n",
        "                    # up the training process.\n",
        "    validation_split=0.2, # Use a validation split of 20%,\n",
        "    verbose=False, # set verbose to false because we don't want to actually use any build logs.\n",
        "                   # Potentially because we're looking at 100 epochs.\n",
        "                   # So we don't want to crowd the notebook too much.\n",
        "                   # Instead, we will use a Lambda callback for a simple logging.\n",
        "    # Let us now define our callbacks; use early stopping; use monitor validation loss\n",
        "    # and set a patient of 5 epochs.\n",
        "    callbacks=[\n",
        "        EarlyStopping(monitor='val_loss', patience=5),\n",
        "    # So if the validation loss does not improve, as if it does not decrease\n",
        "    # for five epochs, then our model will stop the training.\n",
        "        # We will also use Lambda Callback passing in the \"on_epoch_end\" pertaining to the end of Epoch.\n",
        "        # We will use a lambda function; We will print out a validation loss;\n",
        "        # We will also set the ending of our print statement a blank underscore blank.\n",
        "        LambdaCallback(on_epoch_end=lambda e,l: print('{:.3f}'.format(l['val_loss']), end=' _ '))\n",
        "        # This is so that we don't print the validation loss for every epoch in new line.\n",
        "        # It sort of keeps going on and on in a single line until the training is complete.\n",
        "    ]\n",
        ")\n",
        "# When the training is complete, let's print out a statement \"Training is complete!\"\n",
        "print(' _ ')\n",
        "print('Training is complete!')"
      ],
      "metadata": {
        "execution": {
          "iopub.status.busy": "2022-07-20T17:54:30.139917Z",
          "iopub.execute_input": "2022-07-20T17:54:30.140831Z",
          "iopub.status.idle": "2022-07-20T17:55:33.82518Z",
          "shell.execute_reply.started": "2022-07-20T17:54:30.140798Z",
          "shell.execute_reply": "2022-07-20T17:55:33.824287Z"
        },
        "trusted": true,
        "colab": {
          "base_uri": "https://localhost:8080/"
        },
        "id": "ApNdWO_Hplth",
        "outputId": "9aaa65f4-85a0-4c63-83d4-8bd3e02c6949"
      },
      "execution_count": 13,
      "outputs": [
        {
          "output_type": "stream",
          "name": "stdout",
          "text": [
            "0.256 _ 0.224 _ 0.199 _ 0.179 _ 0.167 _ 0.159 _ 0.152 _ 0.146 _ 0.140 _ 0.135 _ 0.132 _ 0.128 _ 0.125 _ 0.123 _ 0.121 _ 0.119 _ 0.117 _ 0.116 _ 0.115 _ 0.114 _ 0.113 _ 0.112 _ 0.111 _ 0.110 _ 0.110 _ 0.109 _ 0.109 _ 0.108 _ 0.108 _ 0.108 _ 0.107 _ 0.107 _ 0.107 _ 0.107 _ 0.106 _ 0.106 _ 0.106 _ 0.106 _ 0.106 _ 0.106 _ 0.106 _ 0.106 _ 0.106 _ 0.106 _ 0.106 _ 0.106 _ 0.105 _ 0.105 _ 0.105 _ 0.105 _ 0.105 _ 0.105 _ 0.105 _ 0.105 _ 0.105 _ 0.105 _ 0.105 _ 0.105 _ 0.105 _ 0.105 _ 0.105 _ 0.105 _ 0.105 _ 0.105 _ 0.105 _ 0.105 _ 0.105 _ 0.105 _  _ \n",
            "Training is complete!\n"
          ]
        }
      ]
    },
    {
      "cell_type": "markdown",
      "source": [
        "So now that the auto encoder is trained, let's put it to use."
      ],
      "metadata": {
        "id": "Fgl4Ju4Eplth"
      }
    },
    {
      "cell_type": "markdown",
      "source": [
        "## Task 7: Denoised Images\n",
        "___\n"
      ],
      "metadata": {
        "id": "AerjD1UVplth"
      }
    },
    {
      "cell_type": "markdown",
      "source": [
        "In order to get our de-noised images, say for our test data, all we have to do is pass the noisy data\n",
        "through the autoencoder."
      ],
      "metadata": {
        "id": "I3HlwPscplth"
      }
    },
    {
      "cell_type": "code",
      "source": [
        "# Let's save it in a variable called prediction and use the autoencoders method to\n",
        "# get our outputs then we will pass the X_test_noisy data.\n",
        "predictions = autoencoder.predict(X_test_noisy)"
      ],
      "metadata": {
        "execution": {
          "iopub.status.busy": "2022-07-20T17:55:33.82669Z",
          "iopub.execute_input": "2022-07-20T17:55:33.826986Z",
          "iopub.status.idle": "2022-07-20T17:55:53.596481Z",
          "shell.execute_reply.started": "2022-07-20T17:55:33.826959Z",
          "shell.execute_reply": "2022-07-20T17:55:53.595368Z"
        },
        "trusted": true,
        "colab": {
          "base_uri": "https://localhost:8080/"
        },
        "id": "Q2S07nZsplth",
        "outputId": "260d4d17-eec2-4d42-cddb-d54369180f0f"
      },
      "execution_count": 14,
      "outputs": [
        {
          "output_type": "stream",
          "name": "stdout",
          "text": [
            "313/313 [==============================] - 0s 1ms/step\n"
          ]
        }
      ]
    },
    {
      "cell_type": "code",
      "source": [
        "# To make a comparison, let's plot the images first.\n",
        "plot(X_test_noisy, None)"
      ],
      "metadata": {
        "execution": {
          "iopub.status.busy": "2022-07-20T17:55:53.599663Z",
          "iopub.execute_input": "2022-07-20T17:55:53.599984Z",
          "iopub.status.idle": "2022-07-20T17:55:53.926949Z",
          "shell.execute_reply.started": "2022-07-20T17:55:53.599949Z",
          "shell.execute_reply": "2022-07-20T17:55:53.925776Z"
        },
        "trusted": true,
        "colab": {
          "base_uri": "https://localhost:8080/",
          "height": 168
        },
        "id": "yUj6GUDLplth",
        "outputId": "49600a19-f308-479e-b292-28f1db8bb1ae"
      },
      "execution_count": 15,
      "outputs": [
        {
          "output_type": "display_data",
          "data": {
            "text/plain": [
              "<Figure size 2000x200 with 10 Axes>"
            ],
            "image/png": "[encoded data removed]"
          },
          "metadata": {}
        }
      ]
    },
    {
      "cell_type": "markdown",
      "source": [
        "These are the noisy test images that were denoised."
      ],
      "metadata": {
        "id": "_owyb-SNplti"
      }
    },
    {
      "cell_type": "code",
      "source": [
        "# Let's plot also the denoised output.\n",
        "plot(predictions, None)"
      ],
      "metadata": {
        "execution": {
          "iopub.status.busy": "2022-07-20T17:55:53.9287Z",
          "iopub.execute_input": "2022-07-20T17:55:53.929625Z",
          "iopub.status.idle": "2022-07-20T17:55:54.313366Z",
          "shell.execute_reply.started": "2022-07-20T17:55:53.929575Z",
          "shell.execute_reply": "2022-07-20T17:55:54.311813Z"
        },
        "trusted": true,
        "colab": {
          "base_uri": "https://localhost:8080/",
          "height": 168
        },
        "id": "nJG5tA1Mplti",
        "outputId": "b05d59af-23d6-40c5-e1fd-180e5020056b"
      },
      "execution_count": 16,
      "outputs": [
        {
          "output_type": "display_data",
          "data": {
            "text/plain": [
              "<Figure size 2000x200 with 10 Axes>"
            ],
            "image/png": "[encoded data removed]"
          },
          "metadata": {}
        }
      ]
    },
    {
      "cell_type": "code",
      "source": [
        "loss, acc = classifier.evaluate(predictions, y_test)\n",
        "print(acc)\n",
        "\n",
        "# Remember, we got fairly low accuracy score for the noisy dataset before, around 10%.\n",
        "# And of course, that score might be different everytime we re-run this model.\n",
        "# However, after doing the denoizing, this score should improve drastically."
      ],
      "metadata": {
        "execution": {
          "iopub.status.busy": "2022-07-20T17:55:54.315346Z",
          "iopub.execute_input": "2022-07-20T17:55:54.316242Z",
          "iopub.status.idle": "2022-07-20T17:55:54.867415Z",
          "shell.execute_reply.started": "2022-07-20T17:55:54.316179Z",
          "shell.execute_reply": "2022-07-20T17:55:54.866642Z"
        },
        "trusted": true,
        "colab": {
          "base_uri": "https://localhost:8080/"
        },
        "id": "mooh9iekpltj",
        "outputId": "b8b6f287-3b4c-43d8-8faa-bedf539548a9"
      },
      "execution_count": 17,
      "outputs": [
        {
          "output_type": "stream",
          "name": "stdout",
          "text": [
            "313/313 [==============================] - 1s 2ms/step - loss: 0.1666 - accuracy: 0.9603\n",
            "0.9603000283241272\n"
          ]
        }
      ]
    },
    {
      "cell_type": "markdown",
      "source": [
        "Great! Now we get 96% accuracy rate. Again it will be different everytime we re-run this, but it\n",
        "will be in the ballpark.\n",
        "\n",
        "So this is a lot of improvement from when we evaluated the noisy test set images with the classifier.\n",
        "Now we are successfully able to denoise our images to a degree where our classifier is actually able to recognize the digits and the classes in those images.\n",
        "\n",
        "As one final step, we will now hook up our classifier and the auto encoder to create one composite model\n",
        "and basically complete our entire pipeline."
      ],
      "metadata": {
        "id": "tL1XIa_ypltj"
      }
    },
    {
      "cell_type": "markdown",
      "source": [
        "## Task 8: Composite Model\n",
        "___\n",
        "Note: If you are starting the notebook from this task, you can run cells from all previous tasks in the kernel by going to the top menu and then selecting Kernel > Restart and Run All\n",
        "___"
      ],
      "metadata": {
        "id": "ShN_HImwpltj"
      }
    },
    {
      "cell_type": "markdown",
      "source": [
        "Let's create our composite model to complete our entire\n",
        "prediction pipeline. We want a model in which we can simply\n",
        "feed a noisy image, or it could be a non noisy image\n",
        "and the model will first denoise that and then use the denoised image and run\n",
        "it through the classifier to get the class prediction. The idea\n",
        "being that even if our incoming data in a production setting\n",
        "is noisy, our classifier should be able to work well\n",
        "because of the denoizing from the autoenoder.\n",
        "\n",
        "This is a useful idea in a lot of production settings.\n",
        "\n",
        "So, just like before, we will use keras functional API\n",
        "to do this."
      ],
      "metadata": {
        "id": "XL4lWZdApltj"
      }
    },
    {
      "cell_type": "code",
      "source": [
        "input_image = Input(shape=(784,))\n",
        "x  =autoencoder(input_image)\n",
        "y = classifier(x)\n",
        "\n",
        "# Now we need to encapsulate this within a model. So we will use the model class\n",
        "# from Keras's functional API.\n",
        "denoised_and_classify = Model(input_image, y)"
      ],
      "metadata": {
        "execution": {
          "iopub.status.busy": "2022-07-20T17:55:54.868369Z",
          "iopub.execute_input": "2022-07-20T17:55:54.869071Z",
          "iopub.status.idle": "2022-07-20T17:55:54.89775Z",
          "shell.execute_reply.started": "2022-07-20T17:55:54.869042Z",
          "shell.execute_reply": "2022-07-20T17:55:54.896614Z"
        },
        "trusted": true,
        "id": "DyjgLEVppltj"
      },
      "execution_count": 18,
      "outputs": []
    },
    {
      "cell_type": "markdown",
      "source": [
        "Now let's put it to work.  \n",
        "Let's get some predictions and let's use the noisy test set."
      ],
      "metadata": {
        "id": "zzQ_JV3fpltj"
      }
    },
    {
      "cell_type": "code",
      "source": [
        "predictions = denoised_and_classify.predict(X_test_noisy)"
      ],
      "metadata": {
        "execution": {
          "iopub.status.busy": "2022-07-20T17:55:54.899303Z",
          "iopub.execute_input": "2022-07-20T17:55:54.900029Z",
          "iopub.status.idle": "2022-07-20T17:55:55.493282Z",
          "shell.execute_reply.started": "2022-07-20T17:55:54.899982Z",
          "shell.execute_reply": "2022-07-20T17:55:55.492285Z"
        },
        "trusted": true,
        "colab": {
          "base_uri": "https://localhost:8080/"
        },
        "id": "L9SdPZHdpltk",
        "outputId": "15703e50-7665-4206-d35f-f35d3517e6cc"
      },
      "execution_count": 19,
      "outputs": [
        {
          "output_type": "stream",
          "name": "stdout",
          "text": [
            "313/313 [==============================] - 1s 2ms/step\n"
          ]
        }
      ]
    },
    {
      "cell_type": "code",
      "source": [
        "# Let's plot out the X_test image data and the predictions.\n",
        "plot(X_test_noisy, predictions, True)\n",
        "\n",
        "# And this time we want to show the labels.\n",
        "# So we set the labels to true and give predictions instead\n",
        "# of none that we've been doing so far.\n",
        "# This time we want to label the images as well."
      ],
      "metadata": {
        "execution": {
          "iopub.status.busy": "2022-07-20T17:55:55.494712Z",
          "iopub.execute_input": "2022-07-20T17:55:55.495013Z",
          "iopub.status.idle": "2022-07-20T17:55:56.131087Z",
          "shell.execute_reply.started": "2022-07-20T17:55:55.494986Z",
          "shell.execute_reply": "2022-07-20T17:55:56.129818Z"
        },
        "trusted": true,
        "colab": {
          "base_uri": "https://localhost:8080/",
          "height": 187
        },
        "id": "JYUvjqTHpltk",
        "outputId": "b395bf48-acf3-44a9-d1b7-4011bb9c8140"
      },
      "execution_count": 20,
      "outputs": [
        {
          "output_type": "display_data",
          "data": {
            "text/plain": [
              "<Figure size 2000x200 with 10 Axes>"
            ],
            "image/png": "[encoded data removed]"
          },
          "metadata": {}
        }
      ]
    },
    {
      "cell_type": "code",
      "source": [
        "# Except I am doing a one hot encoding on the y_test, so that they are in the format\n",
        "# that a plot function expect and set the prediction story labels to true.\n",
        "plot(X_test, to_categorical(y_test), True)"
      ],
      "metadata": {
        "execution": {
          "iopub.status.busy": "2022-07-20T17:55:56.133315Z",
          "iopub.execute_input": "2022-07-20T17:55:56.134181Z",
          "iopub.status.idle": "2022-07-20T17:55:56.544289Z",
          "shell.execute_reply.started": "2022-07-20T17:55:56.134132Z",
          "shell.execute_reply": "2022-07-20T17:55:56.543088Z"
        },
        "trusted": true,
        "colab": {
          "base_uri": "https://localhost:8080/",
          "height": 187
        },
        "id": "jXrz5miApltk",
        "outputId": "3fcc74a1-d7f4-4792-88dd-e99d9ae43856"
      },
      "execution_count": 21,
      "outputs": [
        {
          "output_type": "display_data",
          "data": {
            "text/plain": [
              "<Figure size 2000x200 with 10 Axes>"
            ],
            "image/png": "[encoded data removed]"
          },
          "metadata": {}
        }
      ]
    }
  ]
}